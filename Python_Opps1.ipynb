{
 "cells": [
  {
   "cell_type": "markdown",
   "id": "faf175cf-8594-4cde-83da-e5f2327eb951",
   "metadata": {},
   "source": [
    "#### Q1, Create a vehicle class with an init method having instance variables as name_of_vehicle, max_speed and average_of_vehicle.\n"
   ]
  },
  {
   "cell_type": "markdown",
   "id": "7a3ff836-d509-45d9-847e-b13192430578",
   "metadata": {},
   "source": [
    "#### solve\n",
    "\n",
    "Certainly! Here's an example of a Vehicle class in Python with an __init__ method that initializes instance variables for the name of the vehicle, maximum speed, and average speed:"
   ]
  },
  {
   "cell_type": "code",
   "execution_count": 1,
   "id": "16c0ac34-5eca-4212-89b0-5c4d359906ae",
   "metadata": {},
   "outputs": [
    {
     "name": "stdout",
     "output_type": "stream",
     "text": [
      "Name of Vehicle: Car\n",
      "Max Speed: 200\n",
      "Average Speed: 60\n"
     ]
    }
   ],
   "source": [
    "class Vehicle:\n",
    "    def __init__(self, name_of_vehicle, max_speed, average_speed):\n",
    "        self.name_of_vehicle = name_of_vehicle\n",
    "        self.max_speed = max_speed\n",
    "        self.average_speed = average_speed\n",
    "\n",
    "# Creating an instance of the Vehicle class\n",
    "car = Vehicle(name_of_vehicle=\"Car\", max_speed=200, average_speed=60)\n",
    "\n",
    "# Accessing the instance variables\n",
    "print(\"Name of Vehicle:\", car.name_of_vehicle)\n",
    "print(\"Max Speed:\", car.max_speed)\n",
    "print(\"Average Speed:\", car.average_speed)\n"
   ]
  },
  {
   "cell_type": "markdown",
   "id": "56700be7-fd94-4f20-9e14-594515955fa9",
   "metadata": {},
   "source": [
    "####\n",
    "In this example:\n",
    "\n",
    "The Vehicle class is defined with an __init__ method, which is a special method used for initialization.\n",
    "\n",
    "The __init__ method takes three parameters (name_of_vehicle, max_speed, and average_speed) and assigns them to the corresponding instance variables using self.\n",
    "\n",
    "An instance of the Vehicle class (car) is created with specific values for the instance variables.\n",
    "\n",
    "The values of the instance variables are then printed."
   ]
  },
  {
   "cell_type": "markdown",
   "id": "7ca311f8-7371-43af-bf9c-2be430b2fc93",
   "metadata": {},
   "source": [
    "#### Q2. Create a child class car from the vehicle class created in Que 1, which will inherit the vehicle class. Create a method named seating_capacity which takes capacity as an argument and returns the name of the vehicle and its seating capacity.\n"
   ]
  },
  {
   "cell_type": "markdown",
   "id": "1dae7f1a-1175-49b0-bb99-dd0012d6ed91",
   "metadata": {},
   "source": [
    "#### solve\n",
    "\n",
    "Certainly! Here's an example of a child class Car that inherits from the Vehicle class, and includes a method named seating_capacity:"
   ]
  },
  {
   "cell_type": "code",
   "execution_count": 2,
   "id": "cd2ee7ee-70e2-4937-afd3-961682c9dd44",
   "metadata": {},
   "outputs": [
    {
     "name": "stdout",
     "output_type": "stream",
     "text": [
      "Name of Vehicle: Car\n",
      "Max Speed: 200\n",
      "Average Speed: 60\n",
      "Car has a seating capacity of 5 people.\n"
     ]
    }
   ],
   "source": [
    "class Vehicle:\n",
    "    def __init__(self, name_of_vehicle, max_speed, average_speed):\n",
    "        self.name_of_vehicle = name_of_vehicle\n",
    "        self.max_speed = max_speed\n",
    "        self.average_speed = average_speed\n",
    "\n",
    "class Car(Vehicle):\n",
    "    def __init__(self, name_of_vehicle, max_speed, average_speed):\n",
    "        # Call the __init__ method of the parent class (Vehicle)\n",
    "        super().__init__(name_of_vehicle, max_speed, average_speed)\n",
    "\n",
    "    def seating_capacity(self, capacity):\n",
    "        return f\"{self.name_of_vehicle} has a seating capacity of {capacity} people.\"\n",
    "\n",
    "# Creating an instance of the Car class\n",
    "car_instance = Car(name_of_vehicle=\"Car\", max_speed=200, average_speed=60)\n",
    "\n",
    "# Accessing the inherited instance variables\n",
    "print(\"Name of Vehicle:\", car_instance.name_of_vehicle)\n",
    "print(\"Max Speed:\", car_instance.max_speed)\n",
    "print(\"Average Speed:\", car_instance.average_speed)\n",
    "\n",
    "# Calling the method from the child class\n",
    "capacity_message = car_instance.seating_capacity(5)\n",
    "print(capacity_message)\n"
   ]
  },
  {
   "cell_type": "markdown",
   "id": "586f427b-9791-47d6-98dd-82f105807165",
   "metadata": {},
   "source": [
    "####\n",
    "In this example:\n",
    "\n",
    "The Car class is created as a child class of the Vehicle class.\n",
    "\n",
    "The __init__ method of the Car class uses super() to call the __init__ method of the parent class (Vehicle).\n",
    "\n",
    "The seating_capacity method is added to the Car class, which takes a capacity argument and returns a message about the vehicle's seating capacity.\n",
    "\n",
    "An instance of the Car class (car_instance) is created and the inherited instance variables are accessed.\n",
    "\n",
    "The seating_capacity method is called with a seating capacity of 5, and the result is printed."
   ]
  },
  {
   "cell_type": "markdown",
   "id": "b2f7d39c-e5a4-46b5-875a-f5159b4a15f9",
   "metadata": {},
   "source": [
    "#### Q3. What is multiple inheritance? Write a python code to demonstrate multiple inheritance."
   ]
  },
  {
   "cell_type": "markdown",
   "id": "12c05b31-00ce-4d8e-8640-195c0563b9d6",
   "metadata": {},
   "source": [
    "#### solve\n",
    "\n",
    "Multiple inheritance in Python refers to a situation where a class inherits attributes and methods from more than one parent class. This allows a child class to inherit from multiple parent classes, gaining features from all of them.\n",
    "\n",
    "Here's an example demonstrating multiple inheritance in Python:"
   ]
  },
  {
   "cell_type": "code",
   "execution_count": 3,
   "id": "9e38a6ed-1575-4728-9f28-93b595a03219",
   "metadata": {},
   "outputs": [
    {
     "name": "stdout",
     "output_type": "stream",
     "text": [
      "Engine started.\n",
      "Charging electric power.\n",
      "Hybrid car is driving.\n",
      "Engine stopped.\n",
      "Discharging electric power.\n"
     ]
    }
   ],
   "source": [
    "class Engine:\n",
    "    def start(self):\n",
    "        print(\"Engine started.\")\n",
    "\n",
    "    def stop(self):\n",
    "        print(\"Engine stopped.\")\n",
    "\n",
    "class Electric:\n",
    "    def charge(self):\n",
    "        print(\"Charging electric power.\")\n",
    "\n",
    "    def discharge(self):\n",
    "        print(\"Discharging electric power.\")\n",
    "\n",
    "class HybridCar(Engine, Electric):\n",
    "    def drive(self):\n",
    "        print(\"Hybrid car is driving.\")\n",
    "\n",
    "# Create an instance of the HybridCar class\n",
    "hybrid_car = HybridCar()\n",
    "\n",
    "# Access methods from multiple inherited classes\n",
    "hybrid_car.start()\n",
    "hybrid_car.charge()\n",
    "hybrid_car.drive()\n",
    "\n",
    "# Access method from the Engine class\n",
    "hybrid_car.stop()\n",
    "\n",
    "# Access method from the Electric class\n",
    "hybrid_car.discharge()\n"
   ]
  },
  {
   "cell_type": "markdown",
   "id": "00b110f0-4679-4197-9d46-11d3ff4a9cc8",
   "metadata": {},
   "source": [
    "####\n",
    "In this example:\n",
    "\n",
    "The Engine class has methods start and stop.\n",
    "\n",
    "The Electric class has methods charge and discharge.\n",
    "\n",
    "The HybridCar class inherits from both Engine and Electric, demonstrating multiple inheritance.\n",
    "\n",
    "An instance of HybridCar is created, and methods from both Engine and Electric classes are accessed."
   ]
  },
  {
   "cell_type": "markdown",
   "id": "af51d532-21c7-43fc-9c32-2df3c1212cbb",
   "metadata": {},
   "source": [
    "#### Q4. What are getter and setter in python? Create a class and create a getter and a setter method in this class.\n"
   ]
  },
  {
   "cell_type": "markdown",
   "id": "2be85d5e-d1a1-4f3e-8023-cdeb18cf460a",
   "metadata": {},
   "source": [
    "#### solve\n",
    "In Python, getter and setter methods are used to control access to the attributes (variables) of a class. They are used to encapsulate the internal state of an object and provide a way to get and set the values of its attributes. Getter methods retrieve the values of attributes, and setter methods set the values of attributes.\n",
    "\n",
    "Here's an example of a class with getter and setter methods:"
   ]
  },
  {
   "cell_type": "code",
   "execution_count": 4,
   "id": "fdfc5d6c-7b79-4c6c-bc71-3dc830369f4e",
   "metadata": {},
   "outputs": [
    {
     "name": "stdout",
     "output_type": "stream",
     "text": [
      "Make: Toyota\n",
      "Model: Camry\n",
      "Year: 2022\n",
      "Make (after modification): Honda\n",
      "Model (after modification): Accord\n",
      "Year (after modification): 2023\n"
     ]
    }
   ],
   "source": [
    "class Car:\n",
    "    def __init__(self, make, model, year):\n",
    "        self._make = make  # Using a single underscore to indicate it's a protected attribute\n",
    "        self._model = model\n",
    "        self._year = year\n",
    "\n",
    "    # Getter methods\n",
    "    def get_make(self):\n",
    "        return self._make\n",
    "\n",
    "    def get_model(self):\n",
    "        return self._model\n",
    "\n",
    "    def get_year(self):\n",
    "        return self._year\n",
    "\n",
    "    # Setter methods\n",
    "    def set_make(self, make):\n",
    "        self._make = make\n",
    "\n",
    "    def set_model(self, model):\n",
    "        self._model = model\n",
    "\n",
    "    def set_year(self, year):\n",
    "        self._year = year\n",
    "\n",
    "# Create an instance of the Car class\n",
    "my_car = Car(make='Toyota', model='Camry', year=2022)\n",
    "\n",
    "# Use getter methods to access attributes\n",
    "print(\"Make:\", my_car.get_make())\n",
    "print(\"Model:\", my_car.get_model())\n",
    "print(\"Year:\", my_car.get_year())\n",
    "\n",
    "# Use setter methods to modify attributes\n",
    "my_car.set_make('Honda')\n",
    "my_car.set_model('Accord')\n",
    "my_car.set_year(2023)\n",
    "\n",
    "# Use getter methods again to verify changes\n",
    "print(\"Make (after modification):\", my_car.get_make())\n",
    "print(\"Model (after modification):\", my_car.get_model())\n",
    "print(\"Year (after modification):\", my_car.get_year())\n"
   ]
  },
  {
   "cell_type": "markdown",
   "id": "d294b22d-b526-4926-ac82-4e5510747624",
   "metadata": {},
   "source": [
    "#### solve\n",
    "In this example:\n",
    "\n",
    "The Car class has attributes _make, _model, and _year, and these are marked as \"protected\" by convention using a single underscore.\n",
    "\n",
    "Getter methods (get_make, get_model, get_year) are used to retrieve the values of these attributes.\n",
    "\n",
    "Setter methods (set_make, set_model, set_year) are used to modify the values of these attributes."
   ]
  },
  {
   "cell_type": "markdown",
   "id": "6d793063-5b03-42f9-8aa4-3db8140dfc93",
   "metadata": {},
   "source": [
    "#### Q5.What is method overriding in python? Write a python code to demonstrate method overriding."
   ]
  },
  {
   "cell_type": "markdown",
   "id": "1f682345-c110-4db4-bd99-8c27d7d547fd",
   "metadata": {},
   "source": [
    "#### solve\n",
    "Method overriding in Python occurs when a subclass provides a specific implementation for a method that is already defined in its superclass. The overridden method in the subclass has the same name, return type, and parameters as the method in the superclass.\n",
    "\n",
    "Here's an example to demonstrate method overriding in Python:"
   ]
  },
  {
   "cell_type": "code",
   "execution_count": 5,
   "id": "0a6933d5-0f2a-4ac9-9e4c-c1f39ee19ada",
   "metadata": {},
   "outputs": [
    {
     "name": "stdout",
     "output_type": "stream",
     "text": [
      "Woof! Woof!\n",
      "Meow\n"
     ]
    }
   ],
   "source": [
    "class Animal:\n",
    "    def make_sound(self):\n",
    "        print(\"Generic animal sound\")\n",
    "\n",
    "class Dog(Animal):\n",
    "    def make_sound(self):\n",
    "        print(\"Woof! Woof!\")\n",
    "\n",
    "class Cat(Animal):\n",
    "    def make_sound(self):\n",
    "        print(\"Meow\")\n",
    "\n",
    "# Create instances of the subclasses\n",
    "dog_instance = Dog()\n",
    "cat_instance = Cat()\n",
    "\n",
    "# Call the overridden method for each instance\n",
    "dog_instance.make_sound()  # Output: Woof! Woof!\n",
    "cat_instance.make_sound()  # Output: Meow\n"
   ]
  },
  {
   "cell_type": "markdown",
   "id": "077b19de-6d37-484f-a192-211456636b25",
   "metadata": {},
   "source": [
    "#### \n",
    "In this example:\n",
    "\n",
    "The Animal class has a method make_sound that prints a generic animal sound.\n",
    "\n",
    "The Dog class is a subclass of Animal and overrides the make_sound method to provide a specific sound for a dog (Woof! Woof!).\n",
    "\n",
    "The Cat class is another subclass of Animal and overrides the make_sound method to provide a specific sound for a cat (Meow)."
   ]
  },
  {
   "cell_type": "code",
   "execution_count": null,
   "id": "95c67879-d6d1-444f-a563-d44947b91f2b",
   "metadata": {},
   "outputs": [],
   "source": []
  }
 ],
 "metadata": {
  "kernelspec": {
   "display_name": "Python 3 (ipykernel)",
   "language": "python",
   "name": "python3"
  },
  "language_info": {
   "codemirror_mode": {
    "name": "ipython",
    "version": 3
   },
   "file_extension": ".py",
   "mimetype": "text/x-python",
   "name": "python",
   "nbconvert_exporter": "python",
   "pygments_lexer": "ipython3",
   "version": "3.10.8"
  }
 },
 "nbformat": 4,
 "nbformat_minor": 5
}
